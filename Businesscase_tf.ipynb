{
 "cells": [
  {
   "cell_type": "code",
   "execution_count": 1,
   "id": "afb80e07",
   "metadata": {},
   "outputs": [
    {
     "name": "stderr",
     "output_type": "stream",
     "text": [
      "C:\\Users\\Dhanush Kumar R\\AppData\\Local\\Programs\\Python\\Python310\\lib\\site-packages\\numpy\\_distributor_init.py:30: UserWarning: loaded more than 1 DLL from .libs:\n",
      "C:\\Users\\Dhanush Kumar R\\AppData\\Local\\Programs\\Python\\Python310\\lib\\site-packages\\numpy\\.libs\\libopenblas.FB5AE2TYXYH2IJRDKGDGQ3XBKLKTF43H.gfortran-win_amd64.dll\n",
      "C:\\Users\\Dhanush Kumar R\\AppData\\Local\\Programs\\Python\\Python310\\lib\\site-packages\\numpy\\.libs\\libopenblas64__v0.3.21-gcc_10_3_0.dll\n",
      "  warnings.warn(\"loaded more than 1 DLL from .libs:\"\n"
     ]
    }
   ],
   "source": [
    "import tensorflow as tf\n",
    "import pandas as pd\n",
    "import numpy as np\n",
    "from sklearn import preprocessing\n"
   ]
  },
  {
   "cell_type": "code",
   "execution_count": 2,
   "id": "2676a2fe",
   "metadata": {},
   "outputs": [],
   "source": [
    "raw_csv_data = np.loadtxt('Audiobooks_data.csv', delimiter = ',')"
   ]
  },
  {
   "cell_type": "code",
   "execution_count": 3,
   "id": "019f7786",
   "metadata": {},
   "outputs": [],
   "source": [
    "unscaled_inputs_all = raw_csv_data[:,1:-1]\n"
   ]
  },
  {
   "cell_type": "code",
   "execution_count": 4,
   "id": "c5618786",
   "metadata": {},
   "outputs": [],
   "source": [
    "target_all = raw_csv_data[:,-1]"
   ]
  },
  {
   "cell_type": "code",
   "execution_count": 5,
   "id": "b18b2e30",
   "metadata": {},
   "outputs": [
    {
     "data": {
      "text/plain": [
       "array([[8.7300e+02, 2.1600e+03, 2.1600e+03, ..., 0.0000e+00, 0.0000e+00,\n",
       "        1.0000e+00],\n",
       "       [6.1100e+02, 1.4040e+03, 2.8080e+03, ..., 0.0000e+00, 1.8200e+02,\n",
       "        1.0000e+00],\n",
       "       [7.0500e+02, 3.2400e+02, 3.2400e+02, ..., 1.0000e+00, 3.3400e+02,\n",
       "        1.0000e+00],\n",
       "       ...,\n",
       "       [2.8671e+04, 1.0800e+03, 1.0800e+03, ..., 0.0000e+00, 2.9000e+01,\n",
       "        0.0000e+00],\n",
       "       [3.1134e+04, 2.1600e+03, 2.1600e+03, ..., 0.0000e+00, 0.0000e+00,\n",
       "        0.0000e+00],\n",
       "       [3.2832e+04, 1.6200e+03, 1.6200e+03, ..., 0.0000e+00, 9.0000e+01,\n",
       "        0.0000e+00]])"
      ]
     },
     "execution_count": 5,
     "metadata": {},
     "output_type": "execute_result"
    }
   ],
   "source": [
    "raw_csv_data"
   ]
  },
  {
   "cell_type": "code",
   "execution_count": 6,
   "id": "e3f3429c",
   "metadata": {},
   "outputs": [
    {
     "data": {
      "text/plain": [
       "array([1., 1., 1., ..., 0., 0., 0.])"
      ]
     },
     "execution_count": 6,
     "metadata": {},
     "output_type": "execute_result"
    }
   ],
   "source": [
    "target_all"
   ]
  },
  {
   "cell_type": "code",
   "execution_count": 7,
   "id": "b73256f4",
   "metadata": {},
   "outputs": [
    {
     "data": {
      "text/plain": [
       "array([[2.160e+03, 2.160e+03, 1.013e+01, ..., 0.000e+00, 0.000e+00,\n",
       "        0.000e+00],\n",
       "       [1.404e+03, 2.808e+03, 6.660e+00, ..., 0.000e+00, 0.000e+00,\n",
       "        1.820e+02],\n",
       "       [3.240e+02, 3.240e+02, 1.013e+01, ..., 0.000e+00, 1.000e+00,\n",
       "        3.340e+02],\n",
       "       ...,\n",
       "       [1.080e+03, 1.080e+03, 6.550e+00, ..., 0.000e+00, 0.000e+00,\n",
       "        2.900e+01],\n",
       "       [2.160e+03, 2.160e+03, 6.140e+00, ..., 0.000e+00, 0.000e+00,\n",
       "        0.000e+00],\n",
       "       [1.620e+03, 1.620e+03, 5.330e+00, ..., 0.000e+00, 0.000e+00,\n",
       "        9.000e+01]])"
      ]
     },
     "execution_count": 7,
     "metadata": {},
     "output_type": "execute_result"
    }
   ],
   "source": [
    "unscaled_inputs_all"
   ]
  },
  {
   "cell_type": "markdown",
   "id": "34243183",
   "metadata": {},
   "source": [
    "Balance the dataset"
   ]
  },
  {
   "cell_type": "code",
   "execution_count": 8,
   "id": "b8df0bbe",
   "metadata": {},
   "outputs": [],
   "source": [
    "num_one_targets = int(np.sum(target_all))\n",
    "zero_targets_counter = 0\n",
    "indices_to_remove = []\n",
    "\n",
    "for i in range(target_all.shape[0]):\n",
    "    if target_all[i] == 0:\n",
    "        zero_targets_counter +=1\n",
    "        if zero_targets_counter> num_one_targets :\n",
    "            indices_to_remove.append(i)\n",
    "unscaled_inputs_equal_priors = np.delete(unscaled_inputs_all,indices_to_remove,axis=0)\n",
    "targets_equal_priors = np.delete(target_all,indices_to_remove,axis = 0)"
   ]
  },
  {
   "cell_type": "code",
   "execution_count": 26,
   "id": "acab1690",
   "metadata": {},
   "outputs": [
    {
     "data": {
      "text/plain": [
       "9610"
      ]
     },
     "execution_count": 26,
     "metadata": {},
     "output_type": "execute_result"
    }
   ],
   "source": [
    "num_one_targets\n",
    "len(indices_to_remove)"
   ]
  },
  {
   "cell_type": "markdown",
   "id": "0e1049a1",
   "metadata": {},
   "source": [
    "standaridze the inputs"
   ]
  },
  {
   "cell_type": "code",
   "execution_count": 9,
   "id": "796b364b",
   "metadata": {},
   "outputs": [],
   "source": [
    "scaled_inputs= preprocessing.scale(unscaled_inputs_equal_priors)"
   ]
  },
  {
   "cell_type": "code",
   "execution_count": 10,
   "id": "4782f164",
   "metadata": {},
   "outputs": [
    {
     "data": {
      "text/plain": [
       "array([[ 1.18956512,  0.36398846,  0.67728889, ..., -0.8635056 ,\n",
       "        -0.20536617, -0.77240946],\n",
       "       [-0.33022754,  1.10843845, -0.08841391, ..., -0.8635056 ,\n",
       "        -0.20536617,  1.16499791],\n",
       "       [-2.50135991, -1.74528653,  0.67728889, ..., -0.8635056 ,\n",
       "         2.23179102,  2.78305242],\n",
       "       ...,\n",
       "       [ 1.18956512,  0.36398846,  0.67728889, ..., -0.20129479,\n",
       "        -0.20536617, -0.62337812],\n",
       "       [ 1.18956512,  0.36398846,  0.27347444, ..., -0.20129479,\n",
       "        -0.20536617,  0.21758442],\n",
       "       [ 1.18956512,  0.36398846,  0.20727535, ..., -0.20129479,\n",
       "        -0.20536617, -0.51692717]])"
      ]
     },
     "execution_count": 10,
     "metadata": {},
     "output_type": "execute_result"
    }
   ],
   "source": [
    "scaled_inputs"
   ]
  },
  {
   "cell_type": "markdown",
   "id": "dd390a19",
   "metadata": {},
   "source": [
    "shuffle the data"
   ]
  },
  {
   "cell_type": "code",
   "execution_count": 14,
   "id": "4f723dd3",
   "metadata": {},
   "outputs": [],
   "source": [
    "shuffled_indices = np.arange(scaled_inputs.shape[0])\n",
    "np.random.shuffle(shuffled_indices)\n",
    "\n",
    "shuffled_inputs = scaled_inputs[shuffled_indices]\n",
    "shuffled_targets = targets_equal_priors[shuffled_indices]"
   ]
  },
  {
   "cell_type": "code",
   "execution_count": 15,
   "id": "d4691cdc",
   "metadata": {},
   "outputs": [
    {
     "data": {
      "text/plain": [
       "array([2330,  384, 4095, ..., 1346, 3411, 3142])"
      ]
     },
     "execution_count": 15,
     "metadata": {},
     "output_type": "execute_result"
    }
   ],
   "source": [
    "shuffled_indices"
   ]
  },
  {
   "cell_type": "code",
   "execution_count": 16,
   "id": "79676a10",
   "metadata": {},
   "outputs": [
    {
     "data": {
      "text/plain": [
       "array([[ 1.18956512,  0.36398846, -0.14578645, ..., -0.8635056 ,\n",
       "        -0.20536617, -0.77240946],\n",
       "       [ 0.10399894, -0.25638654, -0.26273818, ...,  0.18499485,\n",
       "        -0.20536617,  0.01532761],\n",
       "       [-0.76445401, -0.75268653, -0.38189654, ...,  0.35054755,\n",
       "        -0.20536617, -0.58079774],\n",
       "       ...,\n",
       "       [-0.76445401, -0.75268653, -0.02883473, ..., -0.8635056 ,\n",
       "        -0.20536617, -0.77240946],\n",
       "       [ 0.10399894, -0.25638654,  1.85563267, ...,  0.87479777,\n",
       "        -0.20536617,  1.75047816],\n",
       "       [-0.76445401, -0.75268653, -0.02883473, ...,  0.91618595,\n",
       "        -0.20536617,  1.4417704 ]])"
      ]
     },
     "execution_count": 16,
     "metadata": {},
     "output_type": "execute_result"
    }
   ],
   "source": [
    "shuffled_inputs"
   ]
  },
  {
   "cell_type": "code",
   "execution_count": 17,
   "id": "ba8d74e9",
   "metadata": {},
   "outputs": [
    {
     "data": {
      "text/plain": [
       "array([0., 1., 0., ..., 1., 0., 0.])"
      ]
     },
     "execution_count": 17,
     "metadata": {},
     "output_type": "execute_result"
    }
   ],
   "source": [
    "shuffled_targets"
   ]
  },
  {
   "cell_type": "markdown",
   "id": "000c5dac",
   "metadata": {},
   "source": [
    "split the data into train,validation,test"
   ]
  },
  {
   "cell_type": "code",
   "execution_count": 18,
   "id": "03d0f78e",
   "metadata": {},
   "outputs": [
    {
     "name": "stdout",
     "output_type": "stream",
     "text": [
      "count\n",
      "4474\n",
      "3579\n",
      "447\n",
      "3132\n"
     ]
    }
   ],
   "source": [
    "samples_count = shuffled_inputs.shape[0]\n",
    "\n",
    "train_samples_count = int(0.8*samples_count)\n",
    "validation_samples_count = int(0.1*samples_count)\n",
    "test_samples_count = train_samples_count - validation_samples_count\n",
    "\n",
    "print(\"count\")\n",
    "print(samples_count)\n",
    "print(train_samples_count)\n",
    "print(validation_samples_count)\n",
    "print(test_samples_count)"
   ]
  },
  {
   "cell_type": "code",
   "execution_count": 19,
   "id": "8a715405",
   "metadata": {},
   "outputs": [],
   "source": [
    "train_inputs = shuffled_inputs[:train_samples_count]\n",
    "train_targets = shuffled_inputs[:train_samples_count]\n",
    "validation_inputs = shuffled_inputs[train_samples_count:train_samples_count+validation_samples_count]\n",
    "validation_targets = shuffled_targets[train_samples_count:train_samples_count+validation_samples_count]\n",
    "\n",
    "test_inputs = shuffled_inputs[train_samples_count+validation_samples_count:]\n",
    "test_targets = shuffled_targets[train_samples_count+validation_samples_count:]"
   ]
  },
  {
   "cell_type": "code",
   "execution_count": 20,
   "id": "d69d5da5",
   "metadata": {},
   "outputs": [
    {
     "name": "stdout",
     "output_type": "stream",
     "text": [
      "train data\n",
      "\n",
      "[[ 1.18956512  0.36398846 -0.14578645 ... -0.8635056  -0.20536617\n",
      "  -0.77240946]\n",
      " [ 0.10399894 -0.25638654 -0.26273818 ...  0.18499485 -0.20536617\n",
      "   0.01532761]\n",
      " [-0.76445401 -0.75268653 -0.38189654 ...  0.35054755 -0.20536617\n",
      "  -0.58079774]\n",
      " ...\n",
      " [-2.50135991 -1.74528653 -0.20536563 ... -0.8635056  -0.20536617\n",
      "  -0.77240946]\n",
      " [ 1.18956512  0.36398846 -0.66655262 ... -0.8635056  -0.20536617\n",
      "  -0.33596054]\n",
      " [ 0.10399894 -0.25638654 -0.38189654 ...  0.18499485 -0.20536617\n",
      "  -0.77240946]]\n",
      "[[ 1.18956512  0.36398846 -0.14578645 ... -0.8635056  -0.20536617\n",
      "  -0.77240946]\n",
      " [ 0.10399894 -0.25638654 -0.26273818 ...  0.18499485 -0.20536617\n",
      "   0.01532761]\n",
      " [-0.76445401 -0.75268653 -0.38189654 ...  0.35054755 -0.20536617\n",
      "  -0.58079774]\n",
      " ...\n",
      " [-2.50135991 -1.74528653 -0.20536563 ... -0.8635056  -0.20536617\n",
      "  -0.77240946]\n",
      " [ 1.18956512  0.36398846 -0.66655262 ... -0.8635056  -0.20536617\n",
      "  -0.33596054]\n",
      " [ 0.10399894 -0.25638654 -0.38189654 ...  0.18499485 -0.20536617\n",
      "  -0.77240946]]\n",
      "validaion data\n",
      "\n",
      "[[ 1.18956512  0.36398846 -0.24067181 ...  0.72855955 -0.20536617\n",
      "   2.25079765]\n",
      " [ 1.18956512  0.36398846 -0.38189654 ... -0.8635056  -0.20536617\n",
      "   2.51692504]\n",
      " [ 1.18956512  0.36398846  0.14990281 ... -0.8635056  -0.20536617\n",
      "   1.48435078]\n",
      " ...\n",
      " [-0.76445401 -0.75268653 -0.38189654 ...  0.35054755 -0.20536617\n",
      "  -0.77240946]\n",
      " [-0.76445401 -0.75268653 -0.26273818 ... -0.8635056  -0.20536617\n",
      "   2.87885828]\n",
      " [-2.06713343 -1.49713653 -0.38189654 ...  0.72855955 -0.20536617\n",
      "  -0.71918398]]\n",
      "[0. 0. 1. 0. 1. 0. 1. 1. 0. 1. 1. 1. 0. 1. 0. 0. 1. 1. 0. 0. 1. 1. 1. 0.\n",
      " 0. 0. 0. 0. 0. 0. 0. 1. 0. 0. 0. 0. 0. 0. 1. 0. 1. 1. 0. 1. 1. 1. 1. 0.\n",
      " 0. 0. 0. 1. 0. 1. 1. 0. 1. 1. 1. 0. 1. 1. 0. 1. 0. 1. 0. 0. 0. 0. 1. 0.\n",
      " 0. 1. 0. 0. 1. 0. 1. 0. 1. 1. 1. 1. 0. 1. 0. 0. 0. 0. 1. 0. 0. 0. 0. 1.\n",
      " 0. 0. 1. 1. 1. 0. 0. 1. 1. 1. 0. 0. 1. 0. 0. 0. 0. 1. 1. 1. 0. 0. 1. 1.\n",
      " 0. 0. 1. 1. 1. 0. 1. 0. 1. 0. 1. 0. 1. 0. 0. 0. 1. 0. 1. 0. 1. 0. 0. 1.\n",
      " 1. 0. 0. 0. 1. 0. 1. 0. 0. 1. 0. 1. 1. 1. 0. 1. 0. 1. 0. 1. 0. 0. 0. 1.\n",
      " 1. 0. 1. 0. 1. 1. 1. 1. 0. 1. 0. 0. 0. 0. 1. 1. 0. 0. 0. 1. 1. 0. 1. 0.\n",
      " 1. 1. 0. 1. 0. 1. 0. 0. 0. 0. 1. 0. 1. 1. 0. 1. 1. 0. 1. 1. 0. 1. 1. 0.\n",
      " 0. 0. 1. 1. 1. 1. 0. 0. 0. 1. 1. 1. 0. 0. 0. 0. 1. 0. 1. 1. 0. 1. 0. 1.\n",
      " 1. 1. 1. 0. 1. 1. 1. 1. 1. 0. 1. 1. 1. 1. 0. 0. 1. 1. 1. 1. 0. 1. 0. 0.\n",
      " 0. 1. 1. 1. 1. 1. 0. 0. 1. 1. 1. 1. 0. 0. 1. 1. 1. 0. 1. 0. 1. 1. 0. 0.\n",
      " 0. 1. 1. 1. 1. 0. 1. 1. 1. 1. 0. 1. 1. 1. 1. 0. 0. 0. 1. 1. 0. 0. 1. 0.\n",
      " 1. 0. 0. 1. 1. 0. 1. 1. 1. 1. 0. 0. 1. 0. 0. 1. 0. 0. 1. 1. 0. 1. 1. 0.\n",
      " 1. 0. 0. 0. 1. 1. 1. 1. 0. 1. 0. 0. 0. 0. 1. 0. 1. 1. 0. 1. 0. 0. 0. 0.\n",
      " 1. 1. 1. 0. 1. 0. 1. 1. 1. 0. 0. 1. 1. 0. 0. 0. 1. 0. 1. 1. 0. 1. 1. 1.\n",
      " 0. 0. 1. 1. 0. 0. 1. 0. 1. 1. 0. 1. 0. 1. 1. 0. 1. 0. 1. 1. 0. 1. 1. 1.\n",
      " 0. 1. 0. 0. 0. 1. 1. 0. 0. 0. 0. 0. 1. 1. 1. 0. 0. 1. 0. 0. 1. 0. 1. 0.\n",
      " 1. 1. 0. 1. 1. 1. 0. 0. 1. 1. 1. 0. 0. 1. 0.]\n",
      "test data\n",
      "[[ 1.18956512  0.36398846 -0.38189654 ...  0.91618595  2.23179102\n",
      "   0.52629219]\n",
      " [ 1.18956512  0.36398846  0.20727535 ... -0.8635056  -0.20536617\n",
      "  -0.60208793]\n",
      " [ 0.10399894 -0.25638654  0.20727535 ...  0.35054755 -0.20536617\n",
      "  -0.60208793]\n",
      " ...\n",
      " [-0.76445401 -0.75268653 -0.02883473 ... -0.8635056  -0.20536617\n",
      "  -0.77240946]\n",
      " [ 0.10399894 -0.25638654  1.85563267 ...  0.87479777 -0.20536617\n",
      "   1.75047816]\n",
      " [-0.76445401 -0.75268653 -0.02883473 ...  0.91618595 -0.20536617\n",
      "   1.4417704 ]]\n",
      "[1. 1. 0. 0. 1. 0. 0. 0. 1. 1. 1. 1. 0. 0. 0. 0. 0. 0. 1. 0. 0. 1. 0. 1.\n",
      " 0. 0. 1. 0. 0. 0. 0. 1. 0. 1. 1. 0. 1. 1. 0. 0. 1. 0. 0. 1. 1. 1. 1. 1.\n",
      " 1. 1. 0. 1. 1. 0. 0. 0. 0. 1. 1. 1. 1. 1. 1. 0. 0. 0. 0. 1. 0. 1. 1. 0.\n",
      " 0. 1. 0. 1. 0. 1. 0. 0. 1. 0. 0. 0. 1. 0. 1. 0. 1. 1. 1. 0. 0. 0. 1. 0.\n",
      " 0. 0. 0. 1. 1. 0. 1. 0. 1. 0. 1. 1. 1. 1. 1. 1. 0. 1. 1. 1. 0. 1. 0. 1.\n",
      " 1. 1. 0. 1. 0. 0. 0. 1. 1. 0. 0. 0. 1. 0. 0. 1. 0. 1. 0. 0. 0. 1. 1. 0.\n",
      " 1. 0. 0. 1. 1. 0. 0. 1. 1. 0. 0. 0. 0. 0. 1. 0. 1. 1. 1. 1. 0. 0. 1. 1.\n",
      " 0. 0. 0. 0. 0. 1. 1. 0. 0. 1. 0. 0. 0. 1. 1. 1. 0. 1. 0. 1. 0. 0. 1. 0.\n",
      " 0. 1. 0. 1. 0. 0. 0. 1. 0. 0. 0. 0. 0. 0. 1. 0. 0. 0. 0. 1. 1. 0. 0. 0.\n",
      " 0. 1. 1. 0. 1. 1. 1. 1. 1. 1. 1. 1. 0. 0. 1. 0. 1. 1. 0. 1. 1. 1. 0. 0.\n",
      " 0. 0. 1. 0. 0. 1. 0. 0. 1. 1. 1. 1. 0. 0. 1. 0. 1. 0. 0. 0. 1. 0. 1. 1.\n",
      " 0. 0. 0. 0. 1. 1. 0. 1. 0. 1. 1. 1. 0. 0. 1. 1. 1. 0. 0. 1. 0. 0. 0. 1.\n",
      " 1. 0. 0. 0. 0. 1. 0. 1. 0. 0. 1. 1. 1. 1. 1. 1. 1. 0. 0. 1. 1. 0. 0. 1.\n",
      " 0. 0. 0. 1. 0. 1. 1. 1. 1. 1. 0. 0. 1. 1. 0. 1. 0. 0. 0. 1. 0. 0. 0. 0.\n",
      " 1. 1. 1. 1. 1. 0. 1. 0. 0. 1. 0. 0. 1. 0. 0. 1. 0. 0. 1. 0. 0. 0. 1. 0.\n",
      " 1. 1. 0. 1. 1. 1. 0. 1. 1. 1. 1. 0. 1. 0. 1. 0. 1. 0. 0. 0. 0. 1. 0. 0.\n",
      " 0. 0. 1. 1. 0. 1. 0. 1. 0. 0. 1. 0. 1. 1. 0. 0. 1. 1. 1. 1. 1. 1. 1. 0.\n",
      " 0. 1. 0. 1. 0. 1. 1. 0. 1. 0. 1. 0. 1. 0. 0. 1. 0. 1. 0. 1. 1. 1. 1. 1.\n",
      " 1. 0. 1. 1. 1. 0. 0. 1. 1. 1. 1. 1. 0. 1. 0. 0.]\n"
     ]
    }
   ],
   "source": [
    "print(\"train data\\n\")\n",
    "print(train_inputs)\n",
    "print(train_targets)\n",
    "print(\"validaion data\\n\")\n",
    "print(validation_inputs)\n",
    "print(validation_targets)\n",
    "print(\"test data\")\n",
    "print(test_inputs)\n",
    "print(test_targets)"
   ]
  },
  {
   "cell_type": "code",
   "execution_count": 21,
   "id": "e7fc1f6b",
   "metadata": {},
   "outputs": [
    {
     "name": "stdout",
     "output_type": "stream",
     "text": [
      "-25.61684810061702 3579 -0.007157543476003638\n",
      "220.0 3132 0.070242656449553\n",
      "230.0 447 0.5145413870246085\n"
     ]
    }
   ],
   "source": [
    "print(np.sum(train_targets),train_samples_count,np.sum(train_targets)/train_samples_count)\n",
    "print(np.sum(test_targets),test_samples_count,np.sum(test_targets)/test_samples_count)\n",
    "print(np.sum(validation_targets),validation_samples_count,np.sum(validation_targets)/validation_samples_count)"
   ]
  },
  {
   "cell_type": "markdown",
   "id": "07a532c8",
   "metadata": {},
   "source": [
    "save the dataset"
   ]
  },
  {
   "cell_type": "code",
   "execution_count": 22,
   "id": "820d6023",
   "metadata": {},
   "outputs": [],
   "source": [
    "np.savez('audiobooks_data_train',inputs = train_inputs,targets = train_targets)\n",
    "np.savez('audiobooks_data_validations',inputs = validation_inputs,targets =validation_targets)\n",
    "np.savez('audiobooks_data_test',inputs = test_inputs,targets = test_targets)"
   ]
  },
  {
   "cell_type": "code",
   "execution_count": null,
   "id": "12469f93",
   "metadata": {},
   "outputs": [],
   "source": [
    "\n",
    "\n"
   ]
  },
  {
   "cell_type": "markdown",
   "id": "81afc187",
   "metadata": {},
   "source": [
    "Importing the data"
   ]
  },
  {
   "cell_type": "code",
   "execution_count": 28,
   "id": "3de05691",
   "metadata": {},
   "outputs": [],
   "source": [
    "npz = np.load('audiobooks_data_train.npz')"
   ]
  },
  {
   "cell_type": "code",
   "execution_count": 29,
   "id": "f7ca15d5",
   "metadata": {},
   "outputs": [
    {
     "data": {
      "text/plain": [
       "<numpy.lib.npyio.NpzFile at 0x299e188e050>"
      ]
     },
     "execution_count": 29,
     "metadata": {},
     "output_type": "execute_result"
    }
   ],
   "source": [
    "npz"
   ]
  },
  {
   "cell_type": "code",
   "execution_count": 33,
   "id": "440d74f9",
   "metadata": {},
   "outputs": [],
   "source": [
    "train_inputs = npz['inputs'].astype(np.float32)\n",
    "train_targets = npz['targets'].astype(np.int64)\n",
    "npz = np.load('audiobooks_data_validations.npz')\n",
    "validation_inputs,validation_targets = npz['inputs'].astype(np.float32),npz['targets'].astype(np.int64)\n",
    "npz = np.load('audiobooks_data_test.npz')\n",
    "test_inputs,test_targets = npz['inputs'].astype(np.float32),npz['targets'].astype(np.int64)"
   ]
  },
  {
   "cell_type": "code",
   "execution_count": 34,
   "id": "d391fb4b",
   "metadata": {},
   "outputs": [
    {
     "name": "stdout",
     "output_type": "stream",
     "text": [
      "[[ 1.1895651   0.36398846 -0.38189653 ...  0.916186    2.231791\n",
      "   0.5262922 ]\n",
      " [ 1.1895651   0.36398846  0.20727536 ... -0.8635056  -0.20536618\n",
      "  -0.6020879 ]\n",
      " [ 0.10399894 -0.25638655  0.20727536 ...  0.35054755 -0.20536618\n",
      "  -0.6020879 ]\n",
      " ...\n",
      " [-0.764454   -0.75268656 -0.02883473 ... -0.8635056  -0.20536618\n",
      "  -0.77240944]\n",
      " [ 0.10399894 -0.25638655  1.8556327  ...  0.87479776 -0.20536618\n",
      "   1.7504781 ]\n",
      " [-0.764454   -0.75268656 -0.02883473 ...  0.916186   -0.20536618\n",
      "   1.4417704 ]]\n",
      "[1 1 0 0 1 0 0 0 1 1 1 1 0 0 0 0 0 0 1 0 0 1 0 1 0 0 1 0 0 0 0 1 0 1 1 0 1\n",
      " 1 0 0 1 0 0 1 1 1 1 1 1 1 0 1 1 0 0 0 0 1 1 1 1 1 1 0 0 0 0 1 0 1 1 0 0 1\n",
      " 0 1 0 1 0 0 1 0 0 0 1 0 1 0 1 1 1 0 0 0 1 0 0 0 0 1 1 0 1 0 1 0 1 1 1 1 1\n",
      " 1 0 1 1 1 0 1 0 1 1 1 0 1 0 0 0 1 1 0 0 0 1 0 0 1 0 1 0 0 0 1 1 0 1 0 0 1\n",
      " 1 0 0 1 1 0 0 0 0 0 1 0 1 1 1 1 0 0 1 1 0 0 0 0 0 1 1 0 0 1 0 0 0 1 1 1 0\n",
      " 1 0 1 0 0 1 0 0 1 0 1 0 0 0 1 0 0 0 0 0 0 1 0 0 0 0 1 1 0 0 0 0 1 1 0 1 1\n",
      " 1 1 1 1 1 1 0 0 1 0 1 1 0 1 1 1 0 0 0 0 1 0 0 1 0 0 1 1 1 1 0 0 1 0 1 0 0\n",
      " 0 1 0 1 1 0 0 0 0 1 1 0 1 0 1 1 1 0 0 1 1 1 0 0 1 0 0 0 1 1 0 0 0 0 1 0 1\n",
      " 0 0 1 1 1 1 1 1 1 0 0 1 1 0 0 1 0 0 0 1 0 1 1 1 1 1 0 0 1 1 0 1 0 0 0 1 0\n",
      " 0 0 0 1 1 1 1 1 0 1 0 0 1 0 0 1 0 0 1 0 0 1 0 0 0 1 0 1 1 0 1 1 1 0 1 1 1\n",
      " 1 0 1 0 1 0 1 0 0 0 0 1 0 0 0 0 1 1 0 1 0 1 0 0 1 0 1 1 0 0 1 1 1 1 1 1 1\n",
      " 0 0 1 0 1 0 1 1 0 1 0 1 0 1 0 0 1 0 1 0 1 1 1 1 1 1 0 1 1 1 0 0 1 1 1 1 1\n",
      " 0 1 0 0]\n",
      "[[ 1.1895651   0.36398846 -0.24067181 ...  0.72855955 -0.20536618\n",
      "   2.2507977 ]\n",
      " [ 1.1895651   0.36398846 -0.38189653 ... -0.8635056  -0.20536618\n",
      "   2.516925  ]\n",
      " [ 1.1895651   0.36398846  0.1499028  ... -0.8635056  -0.20536618\n",
      "   1.4843508 ]\n",
      " ...\n",
      " [-0.764454   -0.75268656 -0.38189653 ...  0.35054755 -0.20536618\n",
      "  -0.77240944]\n",
      " [-0.764454   -0.75268656 -0.26273817 ... -0.8635056  -0.20536618\n",
      "   2.8788583 ]\n",
      " [-2.0671334  -1.4971365  -0.38189653 ...  0.72855955 -0.20536618\n",
      "  -0.719184  ]] [0 0 1 0 1 0 1 1 0 1 1 1 0 1 0 0 1 1 0 0 1 1 1 0 0 0 0 0 0 0 0 1 0 0 0 0 0\n",
      " 0 1 0 1 1 0 1 1 1 1 0 0 0 0 1 0 1 1 0 1 1 1 0 1 1 0 1 0 1 0 0 0 0 1 0 0 1\n",
      " 0 0 1 0 1 0 1 1 1 1 0 1 0 0 0 0 1 0 0 0 0 1 0 0 1 1 1 0 0 1 1 1 0 0 1 0 0\n",
      " 0 0 1 1 1 0 0 1 1 0 0 1 1 1 0 1 0 1 0 1 0 1 0 0 0 1 0 1 0 1 0 0 1 1 0 0 0\n",
      " 1 0 1 0 0 1 0 1 1 1 0 1 0 1 0 1 0 0 0 1 1 0 1 0 1 1 1 1 0 1 0 0 0 0 1 1 0\n",
      " 0 0 1 1 0 1 0 1 1 0 1 0 1 0 0 0 0 1 0 1 1 0 1 1 0 1 1 0 1 1 0 0 0 1 1 1 1\n",
      " 0 0 0 1 1 1 0 0 0 0 1 0 1 1 0 1 0 1 1 1 1 0 1 1 1 1 1 0 1 1 1 1 0 0 1 1 1\n",
      " 1 0 1 0 0 0 1 1 1 1 1 0 0 1 1 1 1 0 0 1 1 1 0 1 0 1 1 0 0 0 1 1 1 1 0 1 1\n",
      " 1 1 0 1 1 1 1 0 0 0 1 1 0 0 1 0 1 0 0 1 1 0 1 1 1 1 0 0 1 0 0 1 0 0 1 1 0\n",
      " 1 1 0 1 0 0 0 1 1 1 1 0 1 0 0 0 0 1 0 1 1 0 1 0 0 0 0 1 1 1 0 1 0 1 1 1 0\n",
      " 0 1 1 0 0 0 1 0 1 1 0 1 1 1 0 0 1 1 0 0 1 0 1 1 0 1 0 1 1 0 1 0 1 1 0 1 1\n",
      " 1 0 1 0 0 0 1 1 0 0 0 0 0 1 1 1 0 0 1 0 0 1 0 1 0 1 1 0 1 1 1 0 0 1 1 1 0\n",
      " 0 1 0]\n",
      "[[ 1.1895651   0.36398846 -0.38189653 ...  0.916186    2.231791\n",
      "   0.5262922 ]\n",
      " [ 1.1895651   0.36398846  0.20727536 ... -0.8635056  -0.20536618\n",
      "  -0.6020879 ]\n",
      " [ 0.10399894 -0.25638655  0.20727536 ...  0.35054755 -0.20536618\n",
      "  -0.6020879 ]\n",
      " ...\n",
      " [-0.764454   -0.75268656 -0.02883473 ... -0.8635056  -0.20536618\n",
      "  -0.77240944]\n",
      " [ 0.10399894 -0.25638655  1.8556327  ...  0.87479776 -0.20536618\n",
      "   1.7504781 ]\n",
      " [-0.764454   -0.75268656 -0.02883473 ...  0.916186   -0.20536618\n",
      "   1.4417704 ]] [1 1 0 0 1 0 0 0 1 1 1 1 0 0 0 0 0 0 1 0 0 1 0 1 0 0 1 0 0 0 0 1 0 1 1 0 1\n",
      " 1 0 0 1 0 0 1 1 1 1 1 1 1 0 1 1 0 0 0 0 1 1 1 1 1 1 0 0 0 0 1 0 1 1 0 0 1\n",
      " 0 1 0 1 0 0 1 0 0 0 1 0 1 0 1 1 1 0 0 0 1 0 0 0 0 1 1 0 1 0 1 0 1 1 1 1 1\n",
      " 1 0 1 1 1 0 1 0 1 1 1 0 1 0 0 0 1 1 0 0 0 1 0 0 1 0 1 0 0 0 1 1 0 1 0 0 1\n",
      " 1 0 0 1 1 0 0 0 0 0 1 0 1 1 1 1 0 0 1 1 0 0 0 0 0 1 1 0 0 1 0 0 0 1 1 1 0\n",
      " 1 0 1 0 0 1 0 0 1 0 1 0 0 0 1 0 0 0 0 0 0 1 0 0 0 0 1 1 0 0 0 0 1 1 0 1 1\n",
      " 1 1 1 1 1 1 0 0 1 0 1 1 0 1 1 1 0 0 0 0 1 0 0 1 0 0 1 1 1 1 0 0 1 0 1 0 0\n",
      " 0 1 0 1 1 0 0 0 0 1 1 0 1 0 1 1 1 0 0 1 1 1 0 0 1 0 0 0 1 1 0 0 0 0 1 0 1\n",
      " 0 0 1 1 1 1 1 1 1 0 0 1 1 0 0 1 0 0 0 1 0 1 1 1 1 1 0 0 1 1 0 1 0 0 0 1 0\n",
      " 0 0 0 1 1 1 1 1 0 1 0 0 1 0 0 1 0 0 1 0 0 1 0 0 0 1 0 1 1 0 1 1 1 0 1 1 1\n",
      " 1 0 1 0 1 0 1 0 0 0 0 1 0 0 0 0 1 1 0 1 0 1 0 0 1 0 1 1 0 0 1 1 1 1 1 1 1\n",
      " 0 0 1 0 1 0 1 1 0 1 0 1 0 1 0 0 1 0 1 0 1 1 1 1 1 1 0 1 1 1 0 0 1 1 1 1 1\n",
      " 0 1 0 0]\n"
     ]
    }
   ],
   "source": [
    "print(train_inputs)\n",
    "print(train_targets)\n",
    "print(validation_inputs,validation_targets)\n",
    "print(test_inputs,test_targets)\n"
   ]
  },
  {
   "cell_type": "code",
   "execution_count": null,
   "id": "23a12e27",
   "metadata": {},
   "outputs": [],
   "source": []
  },
  {
   "cell_type": "markdown",
   "id": "01bf6fca",
   "metadata": {},
   "source": [
    "model"
   ]
  },
  {
   "cell_type": "code",
   "execution_count": 39,
   "id": "edd56aae",
   "metadata": {},
   "outputs": [
    {
     "name": "stdout",
     "output_type": "stream",
     "text": [
      "Epoch 1/100\n",
      "5/5 - 1s - loss: 3.9055 - accuracy: 0.0022 - val_loss: 3.7684 - val_accuracy: 0.0872 - 546ms/epoch - 109ms/step\n",
      "Epoch 2/100\n",
      "5/5 - 0s - loss: 3.6770 - accuracy: 0.1808 - val_loss: 3.5411 - val_accuracy: 0.3132 - 34ms/epoch - 7ms/step\n",
      "Epoch 3/100\n",
      "5/5 - 0s - loss: 3.4482 - accuracy: 0.4286 - val_loss: 3.3090 - val_accuracy: 0.6532 - 34ms/epoch - 7ms/step\n",
      "Epoch 4/100\n",
      "5/5 - 0s - loss: 3.2110 - accuracy: 0.7433 - val_loss: 3.0604 - val_accuracy: 0.7740 - 33ms/epoch - 7ms/step\n",
      "Epoch 5/100\n",
      "5/5 - 0s - loss: 2.9528 - accuracy: 0.8058 - val_loss: 2.7869 - val_accuracy: 0.7919 - 32ms/epoch - 6ms/step\n",
      "Epoch 6/100\n",
      "5/5 - 0s - loss: 2.6706 - accuracy: 0.8304 - val_loss: 2.4868 - val_accuracy: 0.8233 - 35ms/epoch - 7ms/step\n",
      "Epoch 7/100\n",
      "5/5 - 0s - loss: 2.3611 - accuracy: 0.8304 - val_loss: 2.1653 - val_accuracy: 0.8300 - 40ms/epoch - 8ms/step\n",
      "Epoch 8/100\n",
      "5/5 - 0s - loss: 2.0335 - accuracy: 0.8348 - val_loss: 1.8321 - val_accuracy: 0.8322 - 44ms/epoch - 9ms/step\n",
      "Epoch 9/100\n",
      "5/5 - 0s - loss: 1.7051 - accuracy: 0.8326 - val_loss: 1.5057 - val_accuracy: 0.8345 - 41ms/epoch - 8ms/step\n",
      "Epoch 10/100\n",
      "5/5 - 0s - loss: 1.3886 - accuracy: 0.8326 - val_loss: 1.2103 - val_accuracy: 0.8412 - 37ms/epoch - 7ms/step\n",
      "Epoch 11/100\n",
      "5/5 - 0s - loss: 1.1086 - accuracy: 0.8326 - val_loss: 0.9637 - val_accuracy: 0.8456 - 34ms/epoch - 7ms/step\n",
      "Epoch 12/100\n",
      "5/5 - 0s - loss: 0.8773 - accuracy: 0.8371 - val_loss: 0.7748 - val_accuracy: 0.8479 - 38ms/epoch - 8ms/step\n",
      "Epoch 13/100\n",
      "5/5 - 0s - loss: 0.7010 - accuracy: 0.8438 - val_loss: 0.6426 - val_accuracy: 0.8412 - 39ms/epoch - 8ms/step\n",
      "Epoch 14/100\n",
      "5/5 - 0s - loss: 0.5780 - accuracy: 0.8549 - val_loss: 0.5565 - val_accuracy: 0.8434 - 37ms/epoch - 7ms/step\n",
      "Epoch 15/100\n",
      "5/5 - 0s - loss: 0.4991 - accuracy: 0.8594 - val_loss: 0.5024 - val_accuracy: 0.8479 - 34ms/epoch - 7ms/step\n",
      "Epoch 16/100\n",
      "5/5 - 0s - loss: 0.4502 - accuracy: 0.8705 - val_loss: 0.4697 - val_accuracy: 0.8434 - 38ms/epoch - 8ms/step\n",
      "Epoch 17/100\n",
      "5/5 - 0s - loss: 0.4171 - accuracy: 0.8728 - val_loss: 0.4469 - val_accuracy: 0.8456 - 35ms/epoch - 7ms/step\n",
      "Epoch 18/100\n",
      "5/5 - 0s - loss: 0.3946 - accuracy: 0.8728 - val_loss: 0.4307 - val_accuracy: 0.8501 - 38ms/epoch - 8ms/step\n",
      "Epoch 19/100\n",
      "5/5 - 0s - loss: 0.3794 - accuracy: 0.8750 - val_loss: 0.4195 - val_accuracy: 0.8501 - 40ms/epoch - 8ms/step\n",
      "Epoch 20/100\n",
      "5/5 - 0s - loss: 0.3678 - accuracy: 0.8728 - val_loss: 0.4123 - val_accuracy: 0.8546 - 36ms/epoch - 7ms/step\n",
      "Epoch 21/100\n",
      "5/5 - 0s - loss: 0.3579 - accuracy: 0.8772 - val_loss: 0.4067 - val_accuracy: 0.8568 - 32ms/epoch - 6ms/step\n",
      "Epoch 22/100\n",
      "5/5 - 0s - loss: 0.3505 - accuracy: 0.8772 - val_loss: 0.4027 - val_accuracy: 0.8568 - 32ms/epoch - 6ms/step\n",
      "Epoch 23/100\n",
      "5/5 - 0s - loss: 0.3441 - accuracy: 0.8750 - val_loss: 0.3975 - val_accuracy: 0.8635 - 32ms/epoch - 6ms/step\n",
      "Epoch 24/100\n",
      "5/5 - 0s - loss: 0.3380 - accuracy: 0.8750 - val_loss: 0.3929 - val_accuracy: 0.8635 - 33ms/epoch - 7ms/step\n",
      "Epoch 25/100\n",
      "5/5 - 0s - loss: 0.3321 - accuracy: 0.8772 - val_loss: 0.3898 - val_accuracy: 0.8635 - 33ms/epoch - 7ms/step\n",
      "Epoch 26/100\n",
      "5/5 - 0s - loss: 0.3266 - accuracy: 0.8795 - val_loss: 0.3859 - val_accuracy: 0.8635 - 33ms/epoch - 7ms/step\n",
      "Epoch 27/100\n",
      "5/5 - 0s - loss: 0.3219 - accuracy: 0.8795 - val_loss: 0.3824 - val_accuracy: 0.8613 - 34ms/epoch - 7ms/step\n",
      "Epoch 28/100\n",
      "5/5 - 0s - loss: 0.3178 - accuracy: 0.8795 - val_loss: 0.3796 - val_accuracy: 0.8613 - 31ms/epoch - 6ms/step\n",
      "Epoch 29/100\n",
      "5/5 - 0s - loss: 0.3135 - accuracy: 0.8795 - val_loss: 0.3771 - val_accuracy: 0.8658 - 32ms/epoch - 6ms/step\n",
      "Epoch 30/100\n",
      "5/5 - 0s - loss: 0.3099 - accuracy: 0.8795 - val_loss: 0.3751 - val_accuracy: 0.8702 - 32ms/epoch - 6ms/step\n",
      "Epoch 31/100\n",
      "5/5 - 0s - loss: 0.3055 - accuracy: 0.8817 - val_loss: 0.3730 - val_accuracy: 0.8702 - 32ms/epoch - 6ms/step\n",
      "Epoch 32/100\n",
      "5/5 - 0s - loss: 0.3023 - accuracy: 0.8839 - val_loss: 0.3697 - val_accuracy: 0.8680 - 32ms/epoch - 6ms/step\n",
      "Epoch 33/100\n",
      "5/5 - 0s - loss: 0.2986 - accuracy: 0.8839 - val_loss: 0.3666 - val_accuracy: 0.8680 - 34ms/epoch - 7ms/step\n",
      "Epoch 34/100\n",
      "5/5 - 0s - loss: 0.2954 - accuracy: 0.8862 - val_loss: 0.3648 - val_accuracy: 0.8680 - 35ms/epoch - 7ms/step\n",
      "Epoch 35/100\n",
      "5/5 - 0s - loss: 0.2922 - accuracy: 0.8862 - val_loss: 0.3621 - val_accuracy: 0.8702 - 42ms/epoch - 8ms/step\n",
      "Epoch 36/100\n",
      "5/5 - 0s - loss: 0.2892 - accuracy: 0.8884 - val_loss: 0.3595 - val_accuracy: 0.8702 - 37ms/epoch - 7ms/step\n",
      "Epoch 37/100\n",
      "5/5 - 0s - loss: 0.2863 - accuracy: 0.8884 - val_loss: 0.3580 - val_accuracy: 0.8680 - 38ms/epoch - 8ms/step\n",
      "Epoch 38/100\n",
      "5/5 - 0s - loss: 0.2838 - accuracy: 0.8906 - val_loss: 0.3551 - val_accuracy: 0.8680 - 34ms/epoch - 7ms/step\n",
      "Epoch 39/100\n",
      "5/5 - 0s - loss: 0.2802 - accuracy: 0.8929 - val_loss: 0.3549 - val_accuracy: 0.8680 - 34ms/epoch - 7ms/step\n",
      "Epoch 40/100\n",
      "5/5 - 0s - loss: 0.2779 - accuracy: 0.8929 - val_loss: 0.3532 - val_accuracy: 0.8680 - 35ms/epoch - 7ms/step\n",
      "Epoch 41/100\n",
      "5/5 - 0s - loss: 0.2751 - accuracy: 0.8929 - val_loss: 0.3512 - val_accuracy: 0.8680 - 35ms/epoch - 7ms/step\n",
      "Epoch 42/100\n",
      "5/5 - 0s - loss: 0.2735 - accuracy: 0.8906 - val_loss: 0.3480 - val_accuracy: 0.8635 - 36ms/epoch - 7ms/step\n",
      "Epoch 43/100\n",
      "5/5 - 0s - loss: 0.2713 - accuracy: 0.8929 - val_loss: 0.3464 - val_accuracy: 0.8635 - 35ms/epoch - 7ms/step\n",
      "Epoch 44/100\n",
      "5/5 - 0s - loss: 0.2680 - accuracy: 0.8929 - val_loss: 0.3452 - val_accuracy: 0.8635 - 38ms/epoch - 8ms/step\n",
      "Epoch 45/100\n",
      "5/5 - 0s - loss: 0.2659 - accuracy: 0.8929 - val_loss: 0.3438 - val_accuracy: 0.8702 - 35ms/epoch - 7ms/step\n",
      "Epoch 46/100\n",
      "5/5 - 0s - loss: 0.2636 - accuracy: 0.8929 - val_loss: 0.3412 - val_accuracy: 0.8725 - 37ms/epoch - 7ms/step\n",
      "Epoch 47/100\n",
      "5/5 - 0s - loss: 0.2618 - accuracy: 0.8906 - val_loss: 0.3397 - val_accuracy: 0.8725 - 35ms/epoch - 7ms/step\n",
      "Epoch 48/100\n",
      "5/5 - 0s - loss: 0.2601 - accuracy: 0.8929 - val_loss: 0.3398 - val_accuracy: 0.8725 - 29ms/epoch - 6ms/step\n",
      "Epoch 49/100\n",
      "5/5 - 0s - loss: 0.2575 - accuracy: 0.8951 - val_loss: 0.3372 - val_accuracy: 0.8702 - 32ms/epoch - 6ms/step\n",
      "Epoch 50/100\n",
      "5/5 - 0s - loss: 0.2567 - accuracy: 0.8929 - val_loss: 0.3352 - val_accuracy: 0.8658 - 30ms/epoch - 6ms/step\n",
      "Epoch 51/100\n",
      "5/5 - 0s - loss: 0.2550 - accuracy: 0.8929 - val_loss: 0.3335 - val_accuracy: 0.8680 - 32ms/epoch - 6ms/step\n",
      "Epoch 52/100\n",
      "5/5 - 0s - loss: 0.2527 - accuracy: 0.8951 - val_loss: 0.3340 - val_accuracy: 0.8702 - 36ms/epoch - 7ms/step\n",
      "Epoch 53/100\n",
      "5/5 - 0s - loss: 0.2515 - accuracy: 0.8996 - val_loss: 0.3333 - val_accuracy: 0.8680 - 32ms/epoch - 6ms/step\n",
      "Epoch 54/100\n",
      "5/5 - 0s - loss: 0.2499 - accuracy: 0.8996 - val_loss: 0.3291 - val_accuracy: 0.8658 - 30ms/epoch - 6ms/step\n",
      "Epoch 55/100\n",
      "5/5 - 0s - loss: 0.2478 - accuracy: 0.8996 - val_loss: 0.3276 - val_accuracy: 0.8658 - 34ms/epoch - 7ms/step\n",
      "Epoch 56/100\n",
      "5/5 - 0s - loss: 0.2460 - accuracy: 0.8996 - val_loss: 0.3281 - val_accuracy: 0.8658 - 32ms/epoch - 6ms/step\n",
      "Epoch 57/100\n",
      "5/5 - 0s - loss: 0.2453 - accuracy: 0.9040 - val_loss: 0.3287 - val_accuracy: 0.8635 - 33ms/epoch - 7ms/step\n"
     ]
    },
    {
     "data": {
      "text/plain": [
       "<keras.callbacks.History at 0x299e558bac0>"
      ]
     },
     "execution_count": 39,
     "metadata": {},
     "output_type": "execute_result"
    }
   ],
   "source": [
    "input_size = 10\n",
    "output_size =2 \n",
    "hidden_layer_size = 50\n",
    "\n",
    "model = tf.keras.Sequential([\n",
    "    tf.keras.layers.Dense(hidden_layer_size, activation='relu'),\n",
    "    tf.keras.layers.Dense(hidden_layer_size, activation = 'relu'),\n",
    "    tf.keras.layers.Dense(hidden_layer_size,activation = 'softmax')\n",
    "])\n",
    "\n",
    "model.compile(optimizer = 'adam',loss = 'sparse_categorical_crossentropy', metrics =['accuracy'])\n",
    "\n",
    "batch_size =  100\n",
    "max_epoch = 100\n",
    "early_stopping = tf.keras.callbacks.EarlyStopping(patience =2)\n",
    "\n",
    "model.fit(train_inputs,train_targets,batch_size = batch_size,epochs = max_epoch,\n",
    "          callbacks=[early_stopping],validation_data =(validation_inputs, validation_targets),verbose =2)"
   ]
  },
  {
   "cell_type": "markdown",
   "id": "e9ff1217",
   "metadata": {},
   "source": [
    "Test the model"
   ]
  },
  {
   "cell_type": "code",
   "execution_count": 40,
   "id": "2d852936",
   "metadata": {},
   "outputs": [
    {
     "name": "stdout",
     "output_type": "stream",
     "text": [
      "14/14 [==============================] - 0s 1ms/step - loss: 0.2433 - accuracy: 0.9040\n"
     ]
    }
   ],
   "source": [
    "test_loss,test_accuracy = model.evaluate(test_inputs, test_targets)"
   ]
  },
  {
   "cell_type": "code",
   "execution_count": 42,
   "id": "7f90cf5d",
   "metadata": {},
   "outputs": [
    {
     "name": "stdout",
     "output_type": "stream",
     "text": [
      "test loss :  0.24. Test accuracy : 90.401787%\n"
     ]
    }
   ],
   "source": [
    "print(\"test loss : {0: .2f}. Test accuracy : {1:2f}%\".format(test_loss, test_accuracy*100))"
   ]
  },
  {
   "cell_type": "code",
   "execution_count": null,
   "id": "425904f1",
   "metadata": {},
   "outputs": [],
   "source": []
  }
 ],
 "metadata": {
  "kernelspec": {
   "display_name": "Python 3 (ipykernel)",
   "language": "python",
   "name": "python3"
  },
  "language_info": {
   "codemirror_mode": {
    "name": "ipython",
    "version": 3
   },
   "file_extension": ".py",
   "mimetype": "text/x-python",
   "name": "python",
   "nbconvert_exporter": "python",
   "pygments_lexer": "ipython3",
   "version": "3.10.9"
  }
 },
 "nbformat": 4,
 "nbformat_minor": 5
}
